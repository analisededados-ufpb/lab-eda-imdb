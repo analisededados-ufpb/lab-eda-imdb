{
 "cells": [
  {
   "cell_type": "markdown",
   "metadata": {},
   "source": [
    "# Análise de Dados - UFPB\n",
    "\n",
    "**Professor** : Marcus Carvalho\n",
    "\n",
    "Aluno: [Insira seu nome]\n",
    "\n",
    "## Laboratório: Análise Exploratória de Dados\n",
    "\n",
    "Você deve usar os dados de séries do IMDB (_Internet Movie DataBase_) para fazer uma análise exploratória de dados de um seriado. Os dados estão no arquivo `'dados/avaliacao_episodios_series_top.csv`. Você deve escolher uma das séries que estão no arquivo para analisar. A série deve ter no mínimo 4 temporadas para permitir uma análise mais detalhada. A análise deve ser feita neste relatório Jupyter Notebook.  O relatório já possui algumas perguntas a serem respondidas. Use as perguntas como base, mas não fique preso a elas. Você pode fazer novas perguntas e novas análises à vontade.\n",
    "\n",
    "Abaixo tem o código de exemplo para carregar os dados dos episódios e filtrar uma série específica. Modifique o código para filtra a série da sua escolha, depois realize as análises solicitadas a seguir."
   ]
  },
  {
   "cell_type": "code",
   "execution_count": 4,
   "metadata": {},
   "outputs": [
    {
     "data": {
      "text/html": [
       "<div>\n",
       "<style scoped>\n",
       "    .dataframe tbody tr th:only-of-type {\n",
       "        vertical-align: middle;\n",
       "    }\n",
       "\n",
       "    .dataframe tbody tr th {\n",
       "        vertical-align: top;\n",
       "    }\n",
       "\n",
       "    .dataframe thead th {\n",
       "        text-align: right;\n",
       "    }\n",
       "</style>\n",
       "<table border=\"1\" class=\"dataframe\">\n",
       "  <thead>\n",
       "    <tr style=\"text-align: right;\">\n",
       "      <th></th>\n",
       "      <th>id_serie</th>\n",
       "      <th>nome_serie</th>\n",
       "      <th>id_episodio</th>\n",
       "      <th>temporada</th>\n",
       "      <th>num_episodio</th>\n",
       "      <th>nome_episodio</th>\n",
       "      <th>ano</th>\n",
       "      <th>generos</th>\n",
       "      <th>duracao_minutos</th>\n",
       "      <th>avaliacao_media</th>\n",
       "      <th>num_votos</th>\n",
       "    </tr>\n",
       "  </thead>\n",
       "  <tbody>\n",
       "    <tr>\n",
       "      <th>1727</th>\n",
       "      <td>tt0944947</td>\n",
       "      <td>Game of Thrones</td>\n",
       "      <td>tt1480055</td>\n",
       "      <td>1.0</td>\n",
       "      <td>1.0</td>\n",
       "      <td>Winter Is Coming</td>\n",
       "      <td>2011</td>\n",
       "      <td>Action,Adventure,Drama</td>\n",
       "      <td>62.0</td>\n",
       "      <td>8.9</td>\n",
       "      <td>48890</td>\n",
       "    </tr>\n",
       "    <tr>\n",
       "      <th>1728</th>\n",
       "      <td>tt0944947</td>\n",
       "      <td>Game of Thrones</td>\n",
       "      <td>tt1668746</td>\n",
       "      <td>1.0</td>\n",
       "      <td>2.0</td>\n",
       "      <td>The Kingsroad</td>\n",
       "      <td>2011</td>\n",
       "      <td>Action,Adventure,Drama</td>\n",
       "      <td>56.0</td>\n",
       "      <td>8.6</td>\n",
       "      <td>36984</td>\n",
       "    </tr>\n",
       "    <tr>\n",
       "      <th>1729</th>\n",
       "      <td>tt0944947</td>\n",
       "      <td>Game of Thrones</td>\n",
       "      <td>tt1829962</td>\n",
       "      <td>1.0</td>\n",
       "      <td>3.0</td>\n",
       "      <td>Lord Snow</td>\n",
       "      <td>2011</td>\n",
       "      <td>Action,Adventure,Drama</td>\n",
       "      <td>58.0</td>\n",
       "      <td>8.5</td>\n",
       "      <td>34995</td>\n",
       "    </tr>\n",
       "    <tr>\n",
       "      <th>1730</th>\n",
       "      <td>tt0944947</td>\n",
       "      <td>Game of Thrones</td>\n",
       "      <td>tt1829963</td>\n",
       "      <td>1.0</td>\n",
       "      <td>4.0</td>\n",
       "      <td>Cripples, Bastards, and Broken Things</td>\n",
       "      <td>2011</td>\n",
       "      <td>Action,Adventure,Drama</td>\n",
       "      <td>56.0</td>\n",
       "      <td>8.6</td>\n",
       "      <td>33267</td>\n",
       "    </tr>\n",
       "    <tr>\n",
       "      <th>1731</th>\n",
       "      <td>tt0944947</td>\n",
       "      <td>Game of Thrones</td>\n",
       "      <td>tt1829964</td>\n",
       "      <td>1.0</td>\n",
       "      <td>5.0</td>\n",
       "      <td>The Wolf and the Lion</td>\n",
       "      <td>2011</td>\n",
       "      <td>Action,Adventure,Drama</td>\n",
       "      <td>55.0</td>\n",
       "      <td>9.0</td>\n",
       "      <td>34586</td>\n",
       "    </tr>\n",
       "    <tr>\n",
       "      <th>...</th>\n",
       "      <td>...</td>\n",
       "      <td>...</td>\n",
       "      <td>...</td>\n",
       "      <td>...</td>\n",
       "      <td>...</td>\n",
       "      <td>...</td>\n",
       "      <td>...</td>\n",
       "      <td>...</td>\n",
       "      <td>...</td>\n",
       "      <td>...</td>\n",
       "      <td>...</td>\n",
       "    </tr>\n",
       "    <tr>\n",
       "      <th>1795</th>\n",
       "      <td>tt0944947</td>\n",
       "      <td>Game of Thrones</td>\n",
       "      <td>tt6027908</td>\n",
       "      <td>8.0</td>\n",
       "      <td>2.0</td>\n",
       "      <td>A Knight of the Seven Kingdoms</td>\n",
       "      <td>2019</td>\n",
       "      <td>Action,Adventure,Drama</td>\n",
       "      <td>58.0</td>\n",
       "      <td>7.9</td>\n",
       "      <td>131026</td>\n",
       "    </tr>\n",
       "    <tr>\n",
       "      <th>1796</th>\n",
       "      <td>tt0944947</td>\n",
       "      <td>Game of Thrones</td>\n",
       "      <td>tt6027912</td>\n",
       "      <td>8.0</td>\n",
       "      <td>3.0</td>\n",
       "      <td>The Long Night</td>\n",
       "      <td>2019</td>\n",
       "      <td>Action,Adventure,Drama</td>\n",
       "      <td>82.0</td>\n",
       "      <td>7.5</td>\n",
       "      <td>216288</td>\n",
       "    </tr>\n",
       "    <tr>\n",
       "      <th>1797</th>\n",
       "      <td>tt0944947</td>\n",
       "      <td>Game of Thrones</td>\n",
       "      <td>tt6027914</td>\n",
       "      <td>8.0</td>\n",
       "      <td>4.0</td>\n",
       "      <td>The Last of the Starks</td>\n",
       "      <td>2019</td>\n",
       "      <td>Action,Adventure,Drama</td>\n",
       "      <td>78.0</td>\n",
       "      <td>5.5</td>\n",
       "      <td>165279</td>\n",
       "    </tr>\n",
       "    <tr>\n",
       "      <th>1798</th>\n",
       "      <td>tt0944947</td>\n",
       "      <td>Game of Thrones</td>\n",
       "      <td>tt6027916</td>\n",
       "      <td>8.0</td>\n",
       "      <td>5.0</td>\n",
       "      <td>The Bells</td>\n",
       "      <td>2019</td>\n",
       "      <td>Action,Adventure,Drama</td>\n",
       "      <td>78.0</td>\n",
       "      <td>6.0</td>\n",
       "      <td>192691</td>\n",
       "    </tr>\n",
       "    <tr>\n",
       "      <th>1799</th>\n",
       "      <td>tt0944947</td>\n",
       "      <td>Game of Thrones</td>\n",
       "      <td>tt6027920</td>\n",
       "      <td>8.0</td>\n",
       "      <td>6.0</td>\n",
       "      <td>The Iron Throne</td>\n",
       "      <td>2019</td>\n",
       "      <td>Action,Adventure,Drama</td>\n",
       "      <td>80.0</td>\n",
       "      <td>4.0</td>\n",
       "      <td>248771</td>\n",
       "    </tr>\n",
       "  </tbody>\n",
       "</table>\n",
       "<p>73 rows × 11 columns</p>\n",
       "</div>"
      ],
      "text/plain": [
       "       id_serie       nome_serie id_episodio  temporada  num_episodio  \\\n",
       "1727  tt0944947  Game of Thrones   tt1480055        1.0           1.0   \n",
       "1728  tt0944947  Game of Thrones   tt1668746        1.0           2.0   \n",
       "1729  tt0944947  Game of Thrones   tt1829962        1.0           3.0   \n",
       "1730  tt0944947  Game of Thrones   tt1829963        1.0           4.0   \n",
       "1731  tt0944947  Game of Thrones   tt1829964        1.0           5.0   \n",
       "...         ...              ...         ...        ...           ...   \n",
       "1795  tt0944947  Game of Thrones   tt6027908        8.0           2.0   \n",
       "1796  tt0944947  Game of Thrones   tt6027912        8.0           3.0   \n",
       "1797  tt0944947  Game of Thrones   tt6027914        8.0           4.0   \n",
       "1798  tt0944947  Game of Thrones   tt6027916        8.0           5.0   \n",
       "1799  tt0944947  Game of Thrones   tt6027920        8.0           6.0   \n",
       "\n",
       "                              nome_episodio   ano                 generos  \\\n",
       "1727                       Winter Is Coming  2011  Action,Adventure,Drama   \n",
       "1728                          The Kingsroad  2011  Action,Adventure,Drama   \n",
       "1729                              Lord Snow  2011  Action,Adventure,Drama   \n",
       "1730  Cripples, Bastards, and Broken Things  2011  Action,Adventure,Drama   \n",
       "1731                  The Wolf and the Lion  2011  Action,Adventure,Drama   \n",
       "...                                     ...   ...                     ...   \n",
       "1795         A Knight of the Seven Kingdoms  2019  Action,Adventure,Drama   \n",
       "1796                         The Long Night  2019  Action,Adventure,Drama   \n",
       "1797                 The Last of the Starks  2019  Action,Adventure,Drama   \n",
       "1798                              The Bells  2019  Action,Adventure,Drama   \n",
       "1799                        The Iron Throne  2019  Action,Adventure,Drama   \n",
       "\n",
       "      duracao_minutos  avaliacao_media  num_votos  \n",
       "1727             62.0              8.9      48890  \n",
       "1728             56.0              8.6      36984  \n",
       "1729             58.0              8.5      34995  \n",
       "1730             56.0              8.6      33267  \n",
       "1731             55.0              9.0      34586  \n",
       "...               ...              ...        ...  \n",
       "1795             58.0              7.9     131026  \n",
       "1796             82.0              7.5     216288  \n",
       "1797             78.0              5.5     165279  \n",
       "1798             78.0              6.0     192691  \n",
       "1799             80.0              4.0     248771  \n",
       "\n",
       "[73 rows x 11 columns]"
      ]
     },
     "execution_count": 4,
     "metadata": {},
     "output_type": "execute_result"
    }
   ],
   "source": [
    "import pandas as pd\n",
    "\n",
    "# Substitua o filtro com o nome da série que você deseja analisar\n",
    "episodios = (\n",
    "    pd.read_csv('dados/avaliacao_episodios_series_top.csv')\n",
    "    .query(\"nome_serie == 'Game of Thrones'\")\n",
    ")\n",
    "episodios"
   ]
  },
  {
   "cell_type": "markdown",
   "metadata": {},
   "source": [
    "## Popularidade dos episódios\n",
    "\n",
    "### Qual a distribuição de votos que cada episódio teve?\n",
    "\n",
    "Explore a popularidade de cada episódio analisando a quantidade de votos que cada um recebeu (`num_votos`). Exiba visualizações das distribuções e calcule estatísticas de centralidade e dispersão para esta variável.\n"
   ]
  },
  {
   "cell_type": "code",
   "execution_count": 5,
   "metadata": {},
   "outputs": [],
   "source": [
    "# INSIRA SEU CÓDIGO AQUI"
   ]
  },
  {
   "cell_type": "markdown",
   "metadata": {},
   "source": [
    "### Qual o episódio mais popular (com mais votos)?"
   ]
  },
  {
   "cell_type": "code",
   "execution_count": 6,
   "metadata": {},
   "outputs": [],
   "source": [
    "# INSIRA SEU CÓDIGO AQUI"
   ]
  },
  {
   "cell_type": "markdown",
   "metadata": {},
   "source": [
    "### Qual o episódio menos popular (com menos votos)?"
   ]
  },
  {
   "cell_type": "code",
   "execution_count": 7,
   "metadata": {},
   "outputs": [],
   "source": [
    "# INSIRA SEU CÓDIGO AQUI"
   ]
  },
  {
   "cell_type": "markdown",
   "metadata": {},
   "source": [
    "### Qual a temporada mais popular?"
   ]
  },
  {
   "cell_type": "code",
   "execution_count": 8,
   "metadata": {},
   "outputs": [],
   "source": [
    "# INSIRA SEU CÓDIGO AQUI"
   ]
  },
  {
   "cell_type": "markdown",
   "metadata": {},
   "source": [
    "### Qual a temporada menos popular?"
   ]
  },
  {
   "cell_type": "code",
   "execution_count": 9,
   "metadata": {},
   "outputs": [],
   "source": [
    "# INSIRA SEU CÓDIGO AQUI"
   ]
  },
  {
   "cell_type": "markdown",
   "metadata": {},
   "source": [
    "## Qualidade dos episódios\n",
    "\n",
    "### Qual a distribuição de avaliações que cada episódio teve?\n",
    "\n",
    "Explore a qualidade de cada episódio analisando a avaliação média que cada um recebeu (`avaliacao_media`). Exiba visualizações das distribuções e calcule estatísticas de centralidade e dispersão para esta variável.\n"
   ]
  },
  {
   "cell_type": "code",
   "execution_count": 10,
   "metadata": {},
   "outputs": [],
   "source": [
    "# INSIRA SEU CÓDIGO AQUI"
   ]
  },
  {
   "cell_type": "markdown",
   "metadata": {},
   "source": [
    "### Qual o melhor episódio da série de acordo com as avaliações do IMDB?"
   ]
  },
  {
   "cell_type": "code",
   "execution_count": 11,
   "metadata": {},
   "outputs": [],
   "source": [
    "# INSIRA SEU CÓDIGO AQUI"
   ]
  },
  {
   "cell_type": "markdown",
   "metadata": {},
   "source": [
    "### Qual o pior episódio da série de acordo com as avaliações do IMDB?"
   ]
  },
  {
   "cell_type": "code",
   "execution_count": 12,
   "metadata": {},
   "outputs": [],
   "source": [
    "# INSIRA SEU CÓDIGO AQUI"
   ]
  },
  {
   "cell_type": "markdown",
   "metadata": {},
   "source": [
    "### Qual a melhor temporada da série de acordo com as avaliações do IMDB?"
   ]
  },
  {
   "cell_type": "code",
   "execution_count": 13,
   "metadata": {},
   "outputs": [],
   "source": [
    "# INSIRA SEU CÓDIGO AQUI"
   ]
  },
  {
   "cell_type": "markdown",
   "metadata": {},
   "source": [
    "### Qual a pior temporada da série de acordo com as avaliações do IMDB?"
   ]
  },
  {
   "cell_type": "code",
   "execution_count": 14,
   "metadata": {},
   "outputs": [],
   "source": [
    "# INSIRA SEU CÓDIGO AQUI"
   ]
  },
  {
   "cell_type": "markdown",
   "metadata": {},
   "source": [
    "## Relação entre variáveis\n",
    "\n",
    "Analise a relação entre as variáveis referentes a cada episódio. Explore visualmente a relação entre elas e calcula estatísticas de correlação."
   ]
  },
  {
   "cell_type": "markdown",
   "metadata": {},
   "source": [
    "### Existe alguma relação entre a quantidade de votos recebida e a avaliação média dos episódios?"
   ]
  },
  {
   "cell_type": "code",
   "execution_count": null,
   "metadata": {},
   "outputs": [],
   "source": [
    "# INSIRA SEU CÓDIGO AQUI"
   ]
  },
  {
   "cell_type": "markdown",
   "metadata": {},
   "source": [
    "### Existe alguma relação entre a quantidade de votos recebida e o número do episódio?"
   ]
  },
  {
   "cell_type": "code",
   "execution_count": null,
   "metadata": {},
   "outputs": [],
   "source": [
    "# INSIRA SEU CÓDIGO AQUI"
   ]
  },
  {
   "cell_type": "markdown",
   "metadata": {},
   "source": [
    "## Padrões temporais\n",
    "\n",
    "Explore as avaliações de temporadas e episódios ao longo do tempo."
   ]
  },
  {
   "cell_type": "markdown",
   "metadata": {},
   "source": [
    "### As primeiras temporadas são melhor avaliadas do que as últimas?"
   ]
  },
  {
   "cell_type": "code",
   "execution_count": null,
   "metadata": {},
   "outputs": [],
   "source": [
    "# INSIRA SEU CÓDIGO AQUI"
   ]
  },
  {
   "cell_type": "markdown",
   "metadata": {},
   "source": [
    "### Os episódios no fim das temporadas são melhor avaliados do que os do início?"
   ]
  },
  {
   "cell_type": "code",
   "execution_count": null,
   "metadata": {},
   "outputs": [],
   "source": [
    "# INSIRA SEU CÓDIGO AQUI"
   ]
  },
  {
   "cell_type": "markdown",
   "metadata": {},
   "source": [
    "### Qual é a temporada mais regular? (com menor variação de avaliações)"
   ]
  },
  {
   "cell_type": "code",
   "execution_count": null,
   "metadata": {},
   "outputs": [],
   "source": [
    "# INSIRA SEU CÓDIGO AQUI"
   ]
  },
  {
   "cell_type": "markdown",
   "metadata": {},
   "source": [
    "### Qual é a temporada mais instável? (com maior variação de avaliações)"
   ]
  },
  {
   "cell_type": "code",
   "execution_count": null,
   "metadata": {},
   "outputs": [],
   "source": [
    "# INSIRA SEU CÓDIGO AQUI"
   ]
  },
  {
   "cell_type": "markdown",
   "metadata": {},
   "source": [
    "## Valores incomuns\n",
    "\n",
    "Existem outliers nos dados?"
   ]
  },
  {
   "cell_type": "markdown",
   "metadata": {},
   "source": [
    "### Existem episódios outliers em termos de popularidade?"
   ]
  },
  {
   "cell_type": "code",
   "execution_count": null,
   "metadata": {},
   "outputs": [],
   "source": [
    "# INSIRA SEU CÓDIGO AQUI"
   ]
  },
  {
   "cell_type": "markdown",
   "metadata": {},
   "source": [
    "### Existem episódios outliers em termos de avaliação recebida?\n"
   ]
  },
  {
   "cell_type": "code",
   "execution_count": null,
   "metadata": {},
   "outputs": [],
   "source": [
    "# INSIRA SEU CÓDIGO AQUI"
   ]
  },
  {
   "cell_type": "markdown",
   "metadata": {},
   "source": [
    "## Outras análises\n",
    "\n",
    "Fique livre para explorar outras análises, fazer novas perguntas e comparar padrões nos dados de uma série com os de outra série."
   ]
  }
 ],
 "metadata": {
  "kernelspec": {
   "display_name": "Python 3.9.13 64-bit",
   "language": "python",
   "name": "python3"
  },
  "language_info": {
   "codemirror_mode": {
    "name": "ipython",
    "version": 3
   },
   "file_extension": ".py",
   "mimetype": "text/x-python",
   "name": "python",
   "nbconvert_exporter": "python",
   "pygments_lexer": "ipython3",
   "version": "3.9.13"
  },
  "orig_nbformat": 4,
  "vscode": {
   "interpreter": {
    "hash": "aee8b7b246df8f9039afb4144a1f6fd8d2ca17a180786b69acc140d282b71a49"
   }
  }
 },
 "nbformat": 4,
 "nbformat_minor": 2
}
